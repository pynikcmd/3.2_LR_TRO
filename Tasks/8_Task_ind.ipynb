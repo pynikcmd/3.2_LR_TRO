{
 "cells": [
  {
   "cell_type": "markdown",
   "id": "7f3cb258",
   "metadata": {},
   "source": [
    "# Индивидулаьное задание"
   ]
  },
  {
   "cell_type": "markdown",
   "id": "2ab7d4f5",
   "metadata": {},
   "source": [
    "### *Условие*. Вариант 8\n",
    "Соседями элемента Aj в матрице назовем элементы Ak с *i - 1 < k < i + 1*, *j - 1 < 1 < j + 1*, *(k, 1)/(i, j)*. Операция сглаживания матрицы дает новую матрицу того же размера, каждый элемент которой получается как среднее арифметическое имеющихся соседей соответствующего элемента исходной матрицы. Построить результат сглаживания заданной вещественной матрицы размером 7 на 7. В сглаженной матрице найти сумму модулей элементов, расположенных ниже главной диагонали."
   ]
  },
  {
   "cell_type": "code",
   "execution_count": 73,
   "id": "ebb382b2",
   "metadata": {},
   "outputs": [
    {
     "name": "stdout",
     "output_type": "stream",
     "text": [
      "Сгенерированная матрица: \n",
      "[[  0 -15   0 -12 -12   2 -16]\n",
      " [ -9 -15   0 -20   1  -8 -13]\n",
      " [ -9   6   2 -19   4 -11 -10]\n",
      " [  4  -3  -2   9 -12 -20  -9]\n",
      " [-11   6 -10   1   8 -16   8]\n",
      " [  4   2   6  -4  -2  -6 -11]\n",
      " [  7   9 -16  -5  -3 -14  -2]]\n"
     ]
    }
   ],
   "source": [
    "import numpy as np\n",
    "\n",
    "matrix = np.random.randint(-20,10,(7,7))\n",
    "print(\"Сгенерированная матрица: \")\n",
    "print(matrix)\n",
    "\n",
    "sglaj_matrix = np.zeros((7,7))"
   ]
  },
  {
   "cell_type": "code",
   "execution_count": 74,
   "id": "eff77665",
   "metadata": {},
   "outputs": [
    {
     "name": "stdout",
     "output_type": "stream",
     "text": [
      "Сглаженная матрица:\n",
      " [[-13.    -4.8  -12.4   -6.2   -7.4   -9.6   -6.33]\n",
      " [ -6.6   -3.12  -9.12  -4.5   -9.5   -6.88  -8.6 ]\n",
      " [ -3.4   -4.    -5.5   -2.25 -10.    -8.38 -12.2 ]\n",
      " [ -2.2   -1.75  -1.    -3.5   -5.5   -4.75  -9.8 ]\n",
      " [  2.6   -1.25   1.88  -0.88  -6.25  -5.5  -12.4 ]\n",
      " [  2.6   -0.62  -2.12  -2.62  -4.88  -4.    -6.  ]\n",
      " [  5.     0.6    1.6   -3.8   -6.2   -4.8  -10.33]]\n"
     ]
    }
   ],
   "source": [
    "# Проверка на крайние нулевые столбцы и строки для корректного среза\n",
    "for (i,j), element in np.ndenumerate(matrix):\n",
    "    if i == 0 and j == 0:\n",
    "        m = matrix[0:i+2, 0:j+2]\n",
    "        rez = (np.sum(m) - element)/(m.size - 1)\n",
    "\n",
    "    elif i == 0 and j != 0:\n",
    "        m = matrix[0:i+2, j-1:j+2]\n",
    "        rez = (np.sum(m) - element)/(m.size - 1)\n",
    "\n",
    "    elif j == 0 and i != 0:\n",
    "        m = matrix[i-1:i+2, 0:j+2]\n",
    "        rez = (np.sum(m) - element)/(m.size - 1)\n",
    "\n",
    "    else:\n",
    "        m = matrix[i-1:i+2, j-1:j+2]\n",
    "        rez = (np.sum(m) - element)/(m.size - 1)\n",
    "    \n",
    "    sglaj_matrix[i,j] = round(rez,2)\n",
    "\n",
    "print(\"Сглаженная матрица:\\n\", sglaj_matrix)"
   ]
  },
  {
   "cell_type": "code",
   "execution_count": 75,
   "id": "a3208279",
   "metadata": {},
   "outputs": [
    {
     "name": "stdout",
     "output_type": "stream",
     "text": [
      "Сглаженная матрица с обнуленными значениями по главной диагонали и выше:\n",
      " [[  0.     0.     0.     0.     0.     0.     0.  ]\n",
      " [ -1.4    0.     0.     0.     0.     0.     0.  ]\n",
      " [ -4.8   -9.12   0.     0.     0.     0.     0.  ]\n",
      " [-10.   -11.25 -11.38   0.     0.     0.     0.  ]\n",
      " [-15.   -11.62 -10.5  -10.38   0.     0.     0.  ]\n",
      " [-11.    -8.25 -12.12  -7.88  -6.25   0.     0.  ]\n",
      " [-14.    -2.8   -8.6   -3.4   -8.6   -7.2    0.  ]]\n",
      "\n",
      "Сумма модулей элементов, расположенных ниже главной диагонали:  179.41\n"
     ]
    }
   ],
   "source": [
    "print(\"Сглаженная матрица с обнуленными значениями по главной диагонали и выше:\\n\", np.tril(task_matrix, -1))\n",
    "print(\"\\nСумма модулей элементов, расположенных ниже главной диагонали: \", np.absolute(np.sum(task_matrix_null)))"
   ]
  },
  {
   "cell_type": "code",
   "execution_count": null,
   "id": "be9bab5d",
   "metadata": {},
   "outputs": [],
   "source": []
  }
 ],
 "metadata": {
  "kernelspec": {
   "display_name": "Python 3 (ipykernel)",
   "language": "python",
   "name": "python3"
  },
  "language_info": {
   "codemirror_mode": {
    "name": "ipython",
    "version": 3
   },
   "file_extension": ".py",
   "mimetype": "text/x-python",
   "name": "python",
   "nbconvert_exporter": "python",
   "pygments_lexer": "ipython3",
   "version": "3.9.13"
  }
 },
 "nbformat": 4,
 "nbformat_minor": 5
}
